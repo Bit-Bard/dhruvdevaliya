{
 "cells": [
  {
   "cell_type": "code",
   "execution_count": 4,
   "id": "12bedfcb-170d-4040-9b03-a58aa46ec53a",
   "metadata": {},
   "outputs": [
    {
     "name": "stdout",
     "output_type": "stream",
     "text": [
      "Mean Absolute Error: 0.09458854875283458\n",
      "Mean Squared Error: 0.0566160442909632\n",
      "Root Mean Squared Error: 0.23794126227067722\n",
      "R² Score: 0.995490215446985\n"
     ]
    }
   ],
   "source": [
    "import pandas as pd\n",
    "import numpy as np\n",
    "from sklearn.model_selection import train_test_split\n",
    "from sklearn.ensemble import RandomForestRegressor\n",
    "from sklearn.metrics import mean_absolute_error, mean_squared_error, r2_score\n",
    "\n",
    "# 1️⃣ Load dataset\n",
    "file_path = \"consolidated_features.csv\"\n",
    "df = pd.read_csv(file_path)\n",
    "\n",
    "# 2️⃣ Handle missing values (if any)\n",
    "df.fillna(df.median(), inplace=True)\n",
    "\n",
    "# 3️⃣ Define Features (X) and Target (y)\n",
    "X = df.drop(columns=[df.columns[0]])  # Assuming first column is index/time\n",
    "y = df[df.columns[0]]  # Predicting the first temperature column\n",
    "\n",
    "# 4️⃣ Split dataset\n",
    "X_train, X_test, y_train, y_test = train_test_split(X, y, test_size=0.2, random_state=42)\n",
    "\n",
    "# 5️⃣ Train a Regression Model\n",
    "model = RandomForestRegressor(n_estimators=100, random_state=42)\n",
    "model.fit(X_train, y_train)\n",
    "\n",
    "# 6️⃣ Predictions\n",
    "y_pred = model.predict(X_test)\n",
    "\n",
    "# 7️⃣ Evaluation\n",
    "mae = mean_absolute_error(y_test, y_pred)\n",
    "mse = mean_squared_error(y_test, y_pred)\n",
    "rmse = np.sqrt(mse)\n",
    "r2 = r2_score(y_test, y_pred)\n",
    "\n",
    "# 8️⃣ Display results\n",
    "print(f\"Mean Absolute Error: {mae}\")\n",
    "print(f\"Mean Squared Error: {mse}\")\n",
    "print(f\"Root Mean Squared Error: {rmse}\")\n",
    "print(f\"R² Score: {r2}\")\n"
   ]
  },
  {
   "cell_type": "code",
   "execution_count": 5,
   "id": "3cff7208-8a2d-49f6-8fad-25e385ebae8b",
   "metadata": {},
   "outputs": [
    {
     "data": {
      "text/plain": [
       "['URBAN_HEAT_rf_model.pkl']"
      ]
     },
     "execution_count": 5,
     "metadata": {},
     "output_type": "execute_result"
    }
   ],
   "source": [
    "import joblib\n",
    "joblib.dump(model, \"URBAN_HEAT_rf_model.pkl\")"
   ]
  },
  {
   "cell_type": "code",
   "execution_count": null,
   "id": "eda76b15-f311-4dfa-b79c-7c78d89ef8db",
   "metadata": {},
   "outputs": [],
   "source": []
  }
 ],
 "metadata": {
  "kernelspec": {
   "display_name": "Python 3 (ipykernel)",
   "language": "python",
   "name": "python3"
  },
  "language_info": {
   "codemirror_mode": {
    "name": "ipython",
    "version": 3
   },
   "file_extension": ".py",
   "mimetype": "text/x-python",
   "name": "python",
   "nbconvert_exporter": "python",
   "pygments_lexer": "ipython3",
   "version": "3.11.4"
  }
 },
 "nbformat": 4,
 "nbformat_minor": 5
}
